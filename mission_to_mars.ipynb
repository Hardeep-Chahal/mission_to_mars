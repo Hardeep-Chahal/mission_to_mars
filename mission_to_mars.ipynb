{
 "cells": [
  {
   "cell_type": "code",
   "execution_count": 90,
   "metadata": {},
   "outputs": [],
   "source": [
    "# import dependencies \n",
    "from bs4 import BeautifulSoup as bs\n",
    "from bs4 import BeautifulSoup\n",
    "import requests\n",
    "from splinter import Browser\n",
    "import pymongo\n",
    "import pandas as pd\n",
    "import time\n",
    "import shutil\n",
    "from selenium import webdriver"
   ]
  },
  {
   "cell_type": "code",
   "execution_count": 91,
   "metadata": {},
   "outputs": [
    {
     "name": "stdout",
     "output_type": "stream",
     "text": [
      "/usr/local/bin/chromedriver\r\n"
     ]
    }
   ],
   "source": [
    "# https://splinter.readthedocs.io/en/latest/drivers/chrome.html\n",
    "!which chromedriver"
   ]
  },
  {
   "cell_type": "code",
   "execution_count": 92,
   "metadata": {},
   "outputs": [],
   "source": [
    "#create path, use acutal path as shown above. \n",
    "executbale_path = {'executable_path':'/usr/local/bin/chromedriver'}\n",
    "browser = Browser('chrome', **executbale_path, headless=False)"
   ]
  },
  {
   "cell_type": "code",
   "execution_count": 93,
   "metadata": {},
   "outputs": [],
   "source": [
    "url = 'https://mars.nasa.gov/news/?'\n",
    "browser.visit(url)\n",
    "time.sleep(2)"
   ]
  },
  {
   "cell_type": "code",
   "execution_count": 94,
   "metadata": {},
   "outputs": [
    {
     "name": "stdout",
     "output_type": "stream",
     "text": [
      "The Current News Title: Mars InSight Lander's 'Mole' Pauses Digging.\n",
      "The opening to the paragraph is: After the mission's heat probe began hammering last week, it appears to have hit a rock. The team is analyzing data before they hammer again.\n"
     ]
    }
   ],
   "source": [
    "#scrape through with soup :) \n",
    "html = browser.html\n",
    "soup = bs(html, \"html.parser\")\n",
    "news_title = soup.find('div',class_ = 'content_title').text.strip()\n",
    "news_p = soup.find('div', class_=\"article_teaser_body\").text.strip()\n",
    "print(f'The Current News Title: {news_title}.')\n",
    "print(f'The opening to the paragraph is: {news_p}')\n",
    "      \n"
   ]
  },
  {
   "cell_type": "markdown",
   "metadata": {},
   "source": [
    "# JPL Mars Space Images - Featured Image"
   ]
  },
  {
   "cell_type": "code",
   "execution_count": 137,
   "metadata": {},
   "outputs": [],
   "source": [
    "#scrape through JPL to pull latest photos :) gotta stick to master splinter yo.\n",
    "jpl_url = 'https://www.jpl.nasa.gov/spaceimages/?search=&category=Mars'\n",
    "browser.visit(jpl_url)"
   ]
  },
  {
   "cell_type": "code",
   "execution_count": 138,
   "metadata": {},
   "outputs": [],
   "source": [
    "browser.click_link_by_partial_text('FULL IMAGE')\n",
    "time.sleep(4) \n",
    "browser.click_link_by_partial_text('more info')\n"
   ]
  },
  {
   "cell_type": "code",
   "execution_count": 142,
   "metadata": {},
   "outputs": [
    {
     "name": "stdout",
     "output_type": "stream",
     "text": [
      "https://www.jpl.nasa.gov/spaceimages/images/largesize/PIA18826_hires.jpg\n"
     ]
    }
   ],
   "source": [
    "jpl_html = browser.html\n",
    "jpl_soup = BeautifulSoup(jpl_html, \"html.parser\")\n",
    "img_path = jpl_soup.find('figure', class_='lede').a['href']\n",
    "featured_image_url = \"https://www.jpl.nasa.gov\" + img_path\n",
    "print(featured_image_url)"
   ]
  },
  {
   "cell_type": "markdown",
   "metadata": {},
   "source": [
    "# Mars Weather from Twitter"
   ]
  },
  {
   "cell_type": "code",
   "execution_count": 101,
   "metadata": {},
   "outputs": [
    {
     "data": {
      "text/plain": [
       "['InSight sol 99 (2019-03-07) low -95.8ºC (-140.4ºF) high -13.3ºC (8.1ºF)\\nwinds from the SW at 4.2 m/s (9.5 mph) gusting to 12.0 m/s (26.8 mph)\\npressure at 7.20 hPapic.twitter.com/XRi0faFSv5',\n",
       " 'InSight sol 98 (2019-03-06) low -94.6ºC (-138.4ºF) high -14.8ºC (5.3ºF)\\nwinds from the SW at 4.1 m/s (9.2 mph) gusting to 10.8 m/s (24.2 mph)\\npressure at 7.20 hPa',\n",
       " \"A few days ago @BadAstronomer made a post about the median Earth.  I thought:  that's cool; someone should do that for Mars.  But I realized, damn, the person that would do that is me.  So here's the median #Mars from 4 different years.https://twitter.com/BadAstronomer/status/1102960024110882816\\xa0…\",\n",
       " 'InSight sol 97 (2019-03-05) low -95.3ºC (-139.6ºF) high -14.8ºC (5.3ºF)\\nwinds from the SW at 4.9 m/s (10.9 mph) gusting to 12.9 m/s (28.9 mph)\\npressure at 7.20 hPapic.twitter.com/Q9QivIo4ls',\n",
       " 'InSight sol 96 (2019-03-05) low -95.9ºC (-140.6ºF) high -19.1ºC (-2.4ºF)\\npressure at 7.20 hPapic.twitter.com/SFpZrpPEZI',\n",
       " 'InSight sol 95 (2019-03-03) low -95.2ºC (-139.3ºF) high -15.8ºC (3.6ºF)\\nwinds from the SW at 4.8 m/s (10.8 mph) gusting to 13.2 m/s (29.4 mph)\\npressure at 7.20 hPapic.twitter.com/gHDxx6Ij21',\n",
       " 'InSight sol 94 (2019-03-03) low -133.6ºC (-208.4ºF) high -14.4ºC (6.0ºF)\\npressure at 7.20 hPa',\n",
       " 'InSight sol 92 (2019-03-01) low -94.4ºC (-137.9ºF) high -12.9ºC (8.8ºF)\\nwinds from the SW at 4.6 m/s (10.2 mph) gusting to 10.4 m/s (23.2 mph)\\npressure at 7.20 hPapic.twitter.com/zxXhRFOwTo',\n",
       " 'InSight sol 91 (2019-02-28) low -95.0ºC (-139.0ºF) high -13.9ºC (7.0ºF)\\nwinds from the SW at 4.2 m/s (9.5 mph) gusting to 14.0 m/s (31.3 mph)\\npressure at 7.20 hPapic.twitter.com/yCZi4ZZWYz',\n",
       " 'InSight sol 90 (2019-02-26) low -93.9ºC (-137.0ºF) high -12.1ºC (10.2ºF)\\nwinds from the SW at 4.2 m/s (9.3 mph) gusting to 12.0 m/s (26.9 mph)\\npressure at 7.20 hPa',\n",
       " 'InSight sol 89 (2019-02-26) low -95.1ºC (-139.2ºF) high -14.4ºC (6.1ºF)\\nwinds from the SW at 4.3 m/s (9.6 mph) gusting to 12.4 m/s (27.8 mph)\\npressure at 7.20 hPapic.twitter.com/h8gODY5bfk',\n",
       " 'MC Hammer take 5. \\n\\nJPL  was going to tell the Deep Space Network  to tell the Mars Odyssey orbiter  to tell @NASAInSight  to tell HP3  to start hammering the temperature probe into Mars but everybody seems to have missed each other. https://www.dlr.de/blogs/en/all-blog-posts/The-InSight-mission-logbook.aspx\\xa0…',\n",
       " 'MC Hammer take 5. \\n\\nJPL  was going to tell the Deep Space Network  to tell the Mars Odyssey orbiter  to tell @NASAInSight  to tell HP3  to start hammering the temperature probe into Mars but everybody seems to have missed each other. https://www.dlr.de/blogs/en/all-blog-posts/The-InSight-mission-logbook.aspx\\xa0…',\n",
       " 'Stop, HP3 deployment time https://mars.nasa.gov/news/8412/nasas-insight-prepares-to-take-mars-temperature/?site=insight\\xa0…pic.twitter.com/af4sXM8V2o',\n",
       " 'InSight sol 88 (2019-02-25) low -95.2ºC (-139.4ºF) high -17.8ºC (0.0ºF)\\nwinds from the SW at 5.2 m/s (11.6 mph) gusting to 19.8 m/s (44.3 mph)\\npressure at 7.20 hPapic.twitter.com/1msjBvhiu7',\n",
       " 'InSight sol 87 (2019-02-23) low -94.2ºC (-137.5ºF) high -16.0ºC (3.3ºF)\\nwinds from the WNW at 4.4 m/s (9.7 mph) gusting to 11.7 m/s (26.1 mph)\\npressure at 7.20 hPa',\n",
       " 'InSight sol 86 (2019-02-22) low -95.3ºC (-139.5ºF) high -13.7ºC (7.3ºF)\\nwinds from the SW at 4.1 m/s (9.2 mph) gusting to 13.2 m/s (29.5 mph)\\npressure at 7.20 hPa',\n",
       " 'InSight sol 85 (2019-02-21) low -95.7ºC (-140.3ºF) high -16.0ºC (3.1ºF)\\nwinds from the WNW at 4.4 m/s (9.9 mph) gusting to 10.5 m/s (23.5 mph)\\npressure at 7.20 hPa',\n",
       " 'Curiosity is again operating normally following a boot problem first experienced last Friday. Look for more Gale Crater weather conditions soon.\\nhttps://www.jpl.nasa.gov/news/news.php?feature=7339\\xa0…pic.twitter.com/gFMfXyeWDa',\n",
       " '#Mars2020 arm in the testbedpic.twitter.com/iQ7idvnSi2']"
      ]
     },
     "execution_count": 101,
     "metadata": {},
     "output_type": "execute_result"
    }
   ],
   "source": [
    "#straight up shout out to medium for comeing through with this. \n",
    "\n",
    "twt_url = u'https://twitter.com/marswxreport?lang=en'\n",
    "re = requests.get(twt_url)\n",
    "twt_soup = bs(re.text, 'html.parser')\n",
    "\n",
    "mars_weather= [p.text.strip() for p in twt_soup.find_all('p',class_='TweetTextSize')]\n",
    "mars_weather"
   ]
  },
  {
   "cell_type": "markdown",
   "metadata": {},
   "source": [
    "# Mars Facts"
   ]
  },
  {
   "cell_type": "code",
   "execution_count": 102,
   "metadata": {},
   "outputs": [],
   "source": [
    "# Panda scraping.... nuff said\n",
    "#o scrape the table containing facts about the planet including Diameter, Mass, etc.\n",
    "facts_url = \"https://space-facts.com/mars/\""
   ]
  },
  {
   "cell_type": "code",
   "execution_count": 103,
   "metadata": {},
   "outputs": [
    {
     "data": {
      "text/plain": [
       "[                      0                              1\n",
       " 0  Equatorial Diameter:                       6,792 km\n",
       " 1       Polar Diameter:                       6,752 km\n",
       " 2                 Mass:  6.42 x 10^23 kg (10.7% Earth)\n",
       " 3                Moons:            2 (Phobos & Deimos)\n",
       " 4       Orbit Distance:       227,943,824 km (1.52 AU)\n",
       " 5         Orbit Period:           687 days (1.9 years)\n",
       " 6  Surface Temperature:                  -153 to 20 °C\n",
       " 7         First Record:              2nd millennium BC\n",
       " 8          Recorded By:           Egyptian astronomers]"
      ]
     },
     "execution_count": 103,
     "metadata": {},
     "output_type": "execute_result"
    }
   ],
   "source": [
    "tables = pd.read_html(facts_url)\n",
    "tables"
   ]
  },
  {
   "cell_type": "code",
   "execution_count": 104,
   "metadata": {},
   "outputs": [
    {
     "data": {
      "text/plain": [
       "list"
      ]
     },
     "execution_count": 104,
     "metadata": {},
     "output_type": "execute_result"
    }
   ],
   "source": [
    "type(tables)"
   ]
  },
  {
   "cell_type": "code",
   "execution_count": 105,
   "metadata": {},
   "outputs": [
    {
     "name": "stderr",
     "output_type": "stream",
     "text": [
      "/anaconda3/envs/pythondata/lib/python3.6/site-packages/ipykernel_launcher.py:3: UserWarning: Pandas doesn't allow columns to be created via a new attribute name - see https://pandas.pydata.org/pandas-docs/stable/indexing.html#attribute-access\n",
      "  This is separate from the ipykernel package so we can avoid doing imports until\n"
     ]
    },
    {
     "data": {
      "text/html": [
       "<div>\n",
       "<style scoped>\n",
       "    .dataframe tbody tr th:only-of-type {\n",
       "        vertical-align: middle;\n",
       "    }\n",
       "\n",
       "    .dataframe tbody tr th {\n",
       "        vertical-align: top;\n",
       "    }\n",
       "\n",
       "    .dataframe thead th {\n",
       "        text-align: right;\n",
       "    }\n",
       "</style>\n",
       "<table border=\"1\" class=\"dataframe\">\n",
       "  <thead>\n",
       "    <tr style=\"text-align: right;\">\n",
       "      <th></th>\n",
       "      <th>Property</th>\n",
       "      <th>Value</th>\n",
       "    </tr>\n",
       "  </thead>\n",
       "  <tbody>\n",
       "    <tr>\n",
       "      <th>0</th>\n",
       "      <td>Equatorial Diameter:</td>\n",
       "      <td>6,792 km</td>\n",
       "    </tr>\n",
       "    <tr>\n",
       "      <th>1</th>\n",
       "      <td>Polar Diameter:</td>\n",
       "      <td>6,752 km</td>\n",
       "    </tr>\n",
       "    <tr>\n",
       "      <th>2</th>\n",
       "      <td>Mass:</td>\n",
       "      <td>6.42 x 10^23 kg (10.7% Earth)</td>\n",
       "    </tr>\n",
       "    <tr>\n",
       "      <th>3</th>\n",
       "      <td>Moons:</td>\n",
       "      <td>2 (Phobos &amp; Deimos)</td>\n",
       "    </tr>\n",
       "    <tr>\n",
       "      <th>4</th>\n",
       "      <td>Orbit Distance:</td>\n",
       "      <td>227,943,824 km (1.52 AU)</td>\n",
       "    </tr>\n",
       "    <tr>\n",
       "      <th>5</th>\n",
       "      <td>Orbit Period:</td>\n",
       "      <td>687 days (1.9 years)</td>\n",
       "    </tr>\n",
       "    <tr>\n",
       "      <th>6</th>\n",
       "      <td>Surface Temperature:</td>\n",
       "      <td>-153 to 20 °C</td>\n",
       "    </tr>\n",
       "    <tr>\n",
       "      <th>7</th>\n",
       "      <td>First Record:</td>\n",
       "      <td>2nd millennium BC</td>\n",
       "    </tr>\n",
       "    <tr>\n",
       "      <th>8</th>\n",
       "      <td>Recorded By:</td>\n",
       "      <td>Egyptian astronomers</td>\n",
       "    </tr>\n",
       "  </tbody>\n",
       "</table>\n",
       "</div>"
      ],
      "text/plain": [
       "               Property                          Value\n",
       "0  Equatorial Diameter:                       6,792 km\n",
       "1       Polar Diameter:                       6,752 km\n",
       "2                 Mass:  6.42 x 10^23 kg (10.7% Earth)\n",
       "3                Moons:            2 (Phobos & Deimos)\n",
       "4       Orbit Distance:       227,943,824 km (1.52 AU)\n",
       "5         Orbit Period:           687 days (1.9 years)\n",
       "6  Surface Temperature:                  -153 to 20 °C\n",
       "7         First Record:              2nd millennium BC\n",
       "8          Recorded By:           Egyptian astronomers"
      ]
     },
     "execution_count": 105,
     "metadata": {},
     "output_type": "execute_result"
    }
   ],
   "source": [
    "df = tables[0]\n",
    "\n",
    "df.rows = ['Equatorial Diameter', 'Polar Diameter', 'Mass', 'Moons','Orbit Period', 'Surface Temperature', 'First Record', 'Recorded By']\n",
    "df.columns = [\"Property\", \"Value\"]\n",
    "df.head(9)"
   ]
  },
  {
   "cell_type": "code",
   "execution_count": 106,
   "metadata": {},
   "outputs": [
    {
     "data": {
      "text/plain": [
       "'<table border=\"1\" class=\"dataframe\">\\n  <thead>\\n    <tr style=\"text-align: right;\">\\n      <th></th>\\n      <th>Property</th>\\n      <th>Value</th>\\n    </tr>\\n  </thead>\\n  <tbody>\\n    <tr>\\n      <th>0</th>\\n      <td>Equatorial Diameter:</td>\\n      <td>6,792 km</td>\\n    </tr>\\n    <tr>\\n      <th>1</th>\\n      <td>Polar Diameter:</td>\\n      <td>6,752 km</td>\\n    </tr>\\n    <tr>\\n      <th>2</th>\\n      <td>Mass:</td>\\n      <td>6.42 x 10^23 kg (10.7% Earth)</td>\\n    </tr>\\n    <tr>\\n      <th>3</th>\\n      <td>Moons:</td>\\n      <td>2 (Phobos &amp; Deimos)</td>\\n    </tr>\\n    <tr>\\n      <th>4</th>\\n      <td>Orbit Distance:</td>\\n      <td>227,943,824 km (1.52 AU)</td>\\n    </tr>\\n    <tr>\\n      <th>5</th>\\n      <td>Orbit Period:</td>\\n      <td>687 days (1.9 years)</td>\\n    </tr>\\n    <tr>\\n      <th>6</th>\\n      <td>Surface Temperature:</td>\\n      <td>-153 to 20 °C</td>\\n    </tr>\\n    <tr>\\n      <th>7</th>\\n      <td>First Record:</td>\\n      <td>2nd millennium BC</td>\\n    </tr>\\n    <tr>\\n      <th>8</th>\\n      <td>Recorded By:</td>\\n      <td>Egyptian astronomers</td>\\n    </tr>\\n  </tbody>\\n</table>'"
      ]
     },
     "execution_count": 106,
     "metadata": {},
     "output_type": "execute_result"
    }
   ],
   "source": [
    "#make dataframes as html\n",
    "html_table = df.to_html()\n",
    "html_table"
   ]
  },
  {
   "cell_type": "code",
   "execution_count": 107,
   "metadata": {},
   "outputs": [
    {
     "data": {
      "text/plain": [
       "'<table border=\"1\" class=\"dataframe\">  <thead>    <tr style=\"text-align: right;\">      <th></th>      <th>Property</th>      <th>Value</th>    </tr>  </thead>  <tbody>    <tr>      <th>0</th>      <td>Equatorial Diameter:</td>      <td>6,792 km</td>    </tr>    <tr>      <th>1</th>      <td>Polar Diameter:</td>      <td>6,752 km</td>    </tr>    <tr>      <th>2</th>      <td>Mass:</td>      <td>6.42 x 10^23 kg (10.7% Earth)</td>    </tr>    <tr>      <th>3</th>      <td>Moons:</td>      <td>2 (Phobos &amp; Deimos)</td>    </tr>    <tr>      <th>4</th>      <td>Orbit Distance:</td>      <td>227,943,824 km (1.52 AU)</td>    </tr>    <tr>      <th>5</th>      <td>Orbit Period:</td>      <td>687 days (1.9 years)</td>    </tr>    <tr>      <th>6</th>      <td>Surface Temperature:</td>      <td>-153 to 20 °C</td>    </tr>    <tr>      <th>7</th>      <td>First Record:</td>      <td>2nd millennium BC</td>    </tr>    <tr>      <th>8</th>      <td>Recorded By:</td>      <td>Egyptian astronomers</td>    </tr>  </tbody></table>'"
      ]
     },
     "execution_count": 107,
     "metadata": {},
     "output_type": "execute_result"
    }
   ],
   "source": [
    "#strip new lines\n",
    "html_table.replace('\\n', '')"
   ]
  },
  {
   "cell_type": "code",
   "execution_count": 108,
   "metadata": {},
   "outputs": [],
   "source": [
    "#save table\n",
    "df.to_html('table.html')"
   ]
  },
  {
   "cell_type": "code",
   "execution_count": 109,
   "metadata": {},
   "outputs": [],
   "source": [
    "#open file\n",
    "!open table.html"
   ]
  },
  {
   "cell_type": "markdown",
   "metadata": {},
   "source": [
    "# Mars Hemispheres"
   ]
  },
  {
   "cell_type": "code",
   "execution_count": 125,
   "metadata": {},
   "outputs": [],
   "source": [
    "usgs_url= \"https://astrogeology.usgs.gov/search/results?q=hemisphere+enhanced&k1=target&v1=Mars\"\n",
    "browser.visit(usgs_url)\n",
    "\n",
    "html = browser.html\n",
    "usgs_soup = BeautifulSoup(html, 'html.parser')\n",
    "\n",
    "mars_hemi = []"
   ]
  },
  {
   "cell_type": "code",
   "execution_count": 131,
   "metadata": {},
   "outputs": [],
   "source": [
    "# begin rightous for loop \n",
    "\n",
    "for i in range(4): \n",
    "    time.sleep(5)\n",
    "    images = browser.find_by_tag(\"h3\")\n",
    "    images[i].click()\n",
    "    html = browser.html\n",
    "    soup = BeautifulSoup(html, 'html.parser')\n",
    "    part = soup.find(\"img\", class_=\"wide-image\")[\"src\"]\n",
    "    title = soup.find(\"h2\", class_ = \"title\").text\n",
    "    usg_url = \"https://astrogeology.usgs.gov\" + part\n",
    "    dicey ={\"title\":title, \"usg_url\":usg_url}\n",
    "    mars_hemi.append(dicey)\n",
    "    browser.back()"
   ]
  },
  {
   "cell_type": "code",
   "execution_count": 133,
   "metadata": {},
   "outputs": [
    {
     "data": {
      "text/plain": [
       "[dict,\n",
       " dict,\n",
       " dict,\n",
       " dict,\n",
       " {'title': 'Cerberus Hemisphere Enhanced',\n",
       "  'usg_url': 'https://astrogeology.usgs.gov/cache/images/cfa62af2557222a02478f1fcd781d445_cerberus_enhanced.tif_full.jpg'},\n",
       " {'title': 'Schiaparelli Hemisphere Enhanced',\n",
       "  'usg_url': 'https://astrogeology.usgs.gov/cache/images/3cdd1cbf5e0813bba925c9030d13b62e_schiaparelli_enhanced.tif_full.jpg'},\n",
       " {'title': 'Syrtis Major Hemisphere Enhanced',\n",
       "  'usg_url': 'https://astrogeology.usgs.gov/cache/images/ae209b4e408bb6c3e67b6af38168cf28_syrtis_major_enhanced.tif_full.jpg'},\n",
       " {'title': 'Valles Marineris Hemisphere Enhanced',\n",
       "  'usg_url': 'https://astrogeology.usgs.gov/cache/images/7cf2da4bf549ed01c17f206327be4db7_valles_marineris_enhanced.tif_full.jpg'},\n",
       " {'title': 'Cerberus Hemisphere Enhanced',\n",
       "  'usg_url': 'https://astrogeology.usgs.gov/cache/images/cfa62af2557222a02478f1fcd781d445_cerberus_enhanced.tif_full.jpg'},\n",
       " {'title': 'Schiaparelli Hemisphere Enhanced',\n",
       "  'usg_url': 'https://astrogeology.usgs.gov/cache/images/3cdd1cbf5e0813bba925c9030d13b62e_schiaparelli_enhanced.tif_full.jpg'},\n",
       " {'title': 'Syrtis Major Hemisphere Enhanced',\n",
       "  'usg_url': 'https://astrogeology.usgs.gov/cache/images/ae209b4e408bb6c3e67b6af38168cf28_syrtis_major_enhanced.tif_full.jpg'},\n",
       " {'title': 'Valles Marineris Hemisphere Enhanced',\n",
       "  'usg_url': 'https://astrogeology.usgs.gov/cache/images/7cf2da4bf549ed01c17f206327be4db7_valles_marineris_enhanced.tif_full.jpg'}]"
      ]
     },
     "execution_count": 133,
     "metadata": {},
     "output_type": "execute_result"
    }
   ],
   "source": [
    "mars_hemi"
   ]
  },
  {
   "cell_type": "code",
   "execution_count": null,
   "metadata": {},
   "outputs": [],
   "source": []
  }
 ],
 "metadata": {
  "kernelspec": {
   "display_name": "Python 3",
   "language": "python",
   "name": "python3"
  },
  "language_info": {
   "codemirror_mode": {
    "name": "ipython",
    "version": 3
   },
   "file_extension": ".py",
   "mimetype": "text/x-python",
   "name": "python",
   "nbconvert_exporter": "python",
   "pygments_lexer": "ipython3",
   "version": "3.6.8"
  }
 },
 "nbformat": 4,
 "nbformat_minor": 2
}
